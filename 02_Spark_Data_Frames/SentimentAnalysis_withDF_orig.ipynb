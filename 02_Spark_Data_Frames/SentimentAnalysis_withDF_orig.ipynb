{
 "cells": [
  {
   "cell_type": "markdown",
   "metadata": {},
   "source": [
    "# Sentiment Analysis on Yelp Reviews\n",
    "Let's explore the Yelp reviews and perform a sentiment analysis:\n",
    "\n",
    "1. Load reviews from data file ... there are in JSON format\n",
    "2. Convert JSON records to Python tuples for earch row, extract only what we need\n",
    "3. Maybe Look at stars rating\n",
    "4. Create list of words (or bag-of-words)\n",
    "4. Load sentiment dictionary file and convert into a useful format.\n",
    "5. Assign sentiment values (pos and neg) to words of reviews\n",
    "6. Aggregate over reviews and report sentiment analysis"
   ]
  },
  {
   "cell_type": "code",
   "execution_count": 3,
   "metadata": {
    "ExecuteTime": {
     "end_time": "2017-12-31T15:36:41.112157",
     "start_time": "2017-12-31T15:36:29.897079"
    },
    "collapsed": false
   },
   "outputs": [
    {
     "name": "stdout",
     "output_type": "stream",
     "text": [
      "Launched Spark version 2.2.0.2.6.3.0-235 with ID application_1514672663667_0448\n",
      "http://arc.insight.gsu.edu:8088/cluster/app/application_1514672663667_0448\n"
     ]
    }
   ],
   "source": [
    "# %load pyspark_init_arc.py\n",
    "#\n",
    "# This configuration works for Spark on macOS using homebrew\n",
    "#\n",
    "import os, sys\n",
    "# set OS environment variable\n",
    "os.environ[\"SPARK_HOME\"] = '/usr/hdp/2.6.3.0-235/spark2'\n",
    "# add Spark library to Python\n",
    "sys.path.insert(0, os.path.join(os.environ[\"SPARK_HOME\"], 'python'))\n",
    "\n",
    "# import package\n",
    "import pyspark\n",
    "from pyspark.context import SparkContext, SparkConf\n",
    "\n",
    "import atexit\n",
    "def stop_my_spark():\n",
    "    sc.stop()\n",
    "    del(sc)\n",
    "\n",
    "# Register exit    \n",
    "atexit.register(stop_my_spark)\n",
    "\n",
    "# Configure and start Spark ... but only once.\n",
    "if not 'sc' in globals():\n",
    "    conf = SparkConf()\n",
    "    conf.setAppName('MyFirstSpark') ## you may want to change this\n",
    "    conf.setMaster('yarn-client')\n",
    "    sc = SparkContext(conf=conf)\n",
    "    print \"Launched Spark version %s with ID %s\" % (sc.version, sc.applicationId)\n",
    "    print \"http://arc.insight.gsu.edu:8088/cluster/app/%s\"% (sc.applicationId)\n"
   ]
  },
  {
   "cell_type": "code",
   "execution_count": 4,
   "metadata": {
    "ExecuteTime": {
     "end_time": "2017-10-20T10:47:26.028213",
     "start_time": "2017-10-20T10:47:26.008575"
    },
    "collapsed": false
   },
   "outputs": [
    {
     "name": "stdout",
     "output_type": "stream",
     "text": [
      "http://arc.insight.gsu.edu:8088/cluster/app/application_1508160140652_0005\n"
     ]
    }
   ],
   "source": [
    "print \"http://arc.insight.gsu.edu:8088/cluster/app/%s\"% (sc.applicationId)"
   ]
  },
  {
   "cell_type": "code",
   "execution_count": 4,
   "metadata": {
    "ExecuteTime": {
     "end_time": "2017-12-31T15:37:06.956118",
     "start_time": "2017-12-31T15:37:05.255816"
    },
    "collapsed": false
   },
   "outputs": [
    {
     "name": "stderr",
     "output_type": "stream",
     "text": [
      "ls: `/data/yelp/review': No such file or directory\n"
     ]
    }
   ],
   "source": [
    "%%sh\n",
    "hdfs dfs -ls /data/yelp/review"
   ]
  },
  {
   "cell_type": "code",
   "execution_count": 7,
   "metadata": {
    "ExecuteTime": {
     "end_time": "2017-10-20T10:47:54.568493",
     "start_time": "2017-10-20T10:47:54.563758"
    },
    "collapsed": true
   },
   "outputs": [],
   "source": [
    "DATADIR='/data/yelp/'"
   ]
  },
  {
   "cell_type": "code",
   "execution_count": 8,
   "metadata": {
    "ExecuteTime": {
     "end_time": "2017-10-20T10:47:57.802694",
     "start_time": "2017-10-20T10:47:56.796796"
    },
    "collapsed": false
   },
   "outputs": [],
   "source": [
    "review_rdd = sc.textFile(os.path.join(DATADIR, 'review/review_ab.json.gz')).sample(False, 0.01, 42)"
   ]
  },
  {
   "cell_type": "markdown",
   "metadata": {},
   "source": [
    "# First Glance at Reviews"
   ]
  },
  {
   "cell_type": "code",
   "execution_count": 9,
   "metadata": {
    "ExecuteTime": {
     "end_time": "2017-10-20T10:48:06.956544",
     "start_time": "2017-10-20T10:48:02.915287"
    },
    "collapsed": false
   },
   "outputs": [
    {
     "data": {
      "text/plain": [
       "u'{\"votes\": {\"funny\": 0, \"useful\": 0, \"cool\": 0}, \"user_id\": \"pGxyI2QhPpyn3RT61sbfXQ\", \"review_id\": \"rNExnQ7fMtXajA4Xx57BTg\", \"stars\": 5, \"date\": \"2016-03-23\", \"text\": \"This is my first time ever writing a review. But Martha is such a great doctor I thought I should share what I know.\\\\n\\\\nAa a scared pregnant teenager i met Martha for the first time 17 years old. 20 years later I am still a patient of Martha\\'s. This is one of those rare doctors that I have met that actually care about her patients well-being. It\\'s treacherous having to go to the doctor so often. When I walk in the office it\\'s comfortable and I know I am in good hands. This makes all the difference and I am not kept waiting all day.\\\\n \\\\nI encourage every Woman to have a personal relationship with their doctor. Alternative for women is a great place to try. Once you go you will understand the importance of a excellent doctor and a great staff. I love Martha. Not only did she see me through the birth of my big healthy baby. She is still seeing me through all my health problems and making it alot easier on me in the process. Check her out.\", \"type\": \"review\", \"business_id\": \"se11kpNHxkw59O_7wwWhaQ\"}'"
      ]
     },
     "execution_count": 9,
     "metadata": {},
     "output_type": "execute_result"
    }
   ],
   "source": [
    "review_rdd.first()"
   ]
  },
  {
   "cell_type": "code",
   "execution_count": null,
   "metadata": {
    "ExecuteTime": {
     "end_time": "2017-02-11T11:28:32.709403",
     "start_time": "2017-02-11T11:28:32.706532"
    },
    "collapsed": true
   },
   "outputs": [],
   "source": []
  },
  {
   "cell_type": "code",
   "execution_count": null,
   "metadata": {
    "ExecuteTime": {
     "end_time": "2017-02-11T11:20:45.629821",
     "start_time": "2017-02-11T11:20:39.731053"
    },
    "collapsed": false
   },
   "outputs": [],
   "source": [
    "review_rdd.count()"
   ]
  },
  {
   "cell_type": "code",
   "execution_count": null,
   "metadata": {
    "collapsed": true
   },
   "outputs": [],
   "source": []
  },
  {
   "cell_type": "code",
   "execution_count": 11,
   "metadata": {
    "ExecuteTime": {
     "end_time": "2017-10-20T10:49:53.815773",
     "start_time": "2017-10-20T10:49:53.812385"
    },
    "collapsed": false
   },
   "outputs": [],
   "source": [
    "text =  \"Mr Hoagie is an institution. Walking in, it does seem like a throwback to 30 years ago, old fashioned menu board, booths out of the 70s, and a large selection of food. Their speciality is the Italian Hoagie, and it is voted the best in the area year after year. I usually order the burger, while the patties are obviously cooked from frozen, all of the other ingredients are very fresh. Overall, its a good alternative to Subway, which is down the road.\""
   ]
  },
  {
   "cell_type": "code",
   "execution_count": 10,
   "metadata": {
    "ExecuteTime": {
     "end_time": "2017-10-20T10:49:49.669606",
     "start_time": "2017-10-20T10:49:49.645919"
    },
    "collapsed": false
   },
   "outputs": [],
   "source": [
    "def text2words(text):\n",
    "    import re\n",
    "    def clean_text(text):\n",
    "        return re.sub(r'[.;:,!\\'\"]', ' ', unicode(text).lower())\n",
    "    return filter(lambda x: x!='', clean_text(text).split(' '))"
   ]
  },
  {
   "cell_type": "code",
   "execution_count": 13,
   "metadata": {
    "ExecuteTime": {
     "end_time": "2017-10-20T10:50:03.322325",
     "start_time": "2017-10-20T10:50:03.316979"
    },
    "collapsed": false,
    "scrolled": true
   },
   "outputs": [
    {
     "data": {
      "text/plain": [
       "[u'mr',\n",
       " u'hoagie',\n",
       " u'is',\n",
       " u'an',\n",
       " u'institution',\n",
       " u'walking',\n",
       " u'in',\n",
       " u'it',\n",
       " u'does',\n",
       " u'seem']"
      ]
     },
     "execution_count": 13,
     "metadata": {},
     "output_type": "execute_result"
    }
   ],
   "source": [
    "text2words(text)[:10]"
   ]
  },
  {
   "cell_type": "code",
   "execution_count": 86,
   "metadata": {
    "ExecuteTime": {
     "end_time": "2017-10-20T11:46:35.715512",
     "start_time": "2017-10-20T11:46:35.710971"
    },
    "collapsed": false
   },
   "outputs": [],
   "source": [
    "def json_review(s):\n",
    "    import json\n",
    "    r = json.loads(s.strip())\n",
    "    return (r['business_id']+'^'+r['review_id'], r['text'])"
   ]
  },
  {
   "cell_type": "code",
   "execution_count": 87,
   "metadata": {
    "ExecuteTime": {
     "end_time": "2017-10-20T11:46:37.915444",
     "start_time": "2017-10-20T11:46:37.805759"
    },
    "collapsed": false
   },
   "outputs": [
    {
     "data": {
      "text/plain": [
       "[(u'se11kpNHxkw59O_7wwWhaQ^rNExnQ7fMtXajA4Xx57BTg',\n",
       "  u\"This is my first time ever writing a review. But Martha is such a great doctor I thought I should share what I know.\\n\\nAa a scared pregnant teenager i met Martha for the first time 17 years old. 20 years later I am still a patient of Martha's. This is one of those rare doctors that I have met that actually care about her patients well-being. It's treacherous having to go to the doctor so often. When I walk in the office it's comfortable and I know I am in good hands. This makes all the difference and I am not kept waiting all day.\\n \\nI encourage every Woman to have a personal relationship with their doctor. Alternative for women is a great place to try. Once you go you will understand the importance of a excellent doctor and a great staff. I love Martha. Not only did she see me through the birth of my big healthy baby. She is still seeing me through all my health problems and making it alot easier on me in the process. Check her out.\"),\n",
       " (u'a_-JEpIEF8VLeBqhgOE2fw^QGZkobzeYNU88NH9vmOiGw',\n",
       "  u\"My husband and I came here for valentines day. From the first contact we made with the staff here we were sure this was the place to spend our special valentines. Staff friendly very accommodating and understands your needs. Another plus is the spa is very clean and relaxing considering I'm a very picky person. My masseuse Yesina was great and upon leaving the owner himself gave us a valentines gift and thanked us for coming. Highly recommended. Love sequoia& jason\"),\n",
       " (u'Oq0cjB802qiMqIi-AFHolg^6hgLpCrTAQai09XbKTZfrg',\n",
       "  u\"We have been here several times. It is always clean and everyone is very friendly. Sandra is a master colorist and hairstylist.  Not to mention gives THE BEST scalp massages! I can't imagine anyone else ever touching my hair again! Definitely ask for Sandra!  She is awesome! :-)\"),\n",
       " (u'S4nbHSW29N0rcXkIlA-wbQ^Uc7SsSpFMb1tBuVZ64Ci0Q',\n",
       "  u\"Just rolled in to get a quick small vanilla milkshake, which was pretty good size for 2 bucks. The milkshake itself just tasted like plain soft serve ice-cream, but I honestly wasn't expecting much to begin with. Nothing special, nothing bad really.\")]"
      ]
     },
     "execution_count": 87,
     "metadata": {},
     "output_type": "execute_result"
    }
   ],
   "source": [
    "review_rdd.map(json_review).take(4)"
   ]
  },
  {
   "cell_type": "code",
   "execution_count": 88,
   "metadata": {
    "ExecuteTime": {
     "end_time": "2017-10-20T11:46:50.539169",
     "start_time": "2017-10-20T11:46:50.535146"
    },
    "collapsed": false
   },
   "outputs": [],
   "source": [
    "##word_train_rdd = rtrain_rdd.flatMap(lambda r: [(r[0], w) for w in text2words(r[1])])\n",
    "words_rdd = review_rdd.map(json_review).flatMap(lambda r: [(r[0], w) for w in text2words(r[1])])"
   ]
  },
  {
   "cell_type": "code",
   "execution_count": 89,
   "metadata": {
    "ExecuteTime": {
     "end_time": "2017-10-20T11:46:52.491668",
     "start_time": "2017-10-20T11:46:52.413695"
    },
    "collapsed": false
   },
   "outputs": [
    {
     "data": {
      "text/plain": [
       "[(u'se11kpNHxkw59O_7wwWhaQ^rNExnQ7fMtXajA4Xx57BTg', u'this'),\n",
       " (u'se11kpNHxkw59O_7wwWhaQ^rNExnQ7fMtXajA4Xx57BTg', u'is'),\n",
       " (u'se11kpNHxkw59O_7wwWhaQ^rNExnQ7fMtXajA4Xx57BTg', u'my'),\n",
       " (u'se11kpNHxkw59O_7wwWhaQ^rNExnQ7fMtXajA4Xx57BTg', u'first'),\n",
       " (u'se11kpNHxkw59O_7wwWhaQ^rNExnQ7fMtXajA4Xx57BTg', u'time'),\n",
       " (u'se11kpNHxkw59O_7wwWhaQ^rNExnQ7fMtXajA4Xx57BTg', u'ever'),\n",
       " (u'se11kpNHxkw59O_7wwWhaQ^rNExnQ7fMtXajA4Xx57BTg', u'writing'),\n",
       " (u'se11kpNHxkw59O_7wwWhaQ^rNExnQ7fMtXajA4Xx57BTg', u'a'),\n",
       " (u'se11kpNHxkw59O_7wwWhaQ^rNExnQ7fMtXajA4Xx57BTg', u'review'),\n",
       " (u'se11kpNHxkw59O_7wwWhaQ^rNExnQ7fMtXajA4Xx57BTg', u'but')]"
      ]
     },
     "execution_count": 89,
     "metadata": {},
     "output_type": "execute_result"
    }
   ],
   "source": [
    "words_rdd.take(10) ## .groupByKey().take(10)"
   ]
  },
  {
   "cell_type": "markdown",
   "metadata": {},
   "source": [
    "# Sentiment Dictionary"
   ]
  },
  {
   "cell_type": "code",
   "execution_count": 24,
   "metadata": {
    "ExecuteTime": {
     "end_time": "2017-10-20T10:53:58.513404",
     "start_time": "2017-10-20T10:53:52.584639"
    },
    "collapsed": false
   },
   "outputs": [
    {
     "name": "stdout",
     "output_type": "stream",
     "text": [
      "Found 7 items\n",
      "-rw-r--r--   3 pmolnar hdfs     13590777 2017-10-19 14:41 /data/yelp/SentiWordNet_3.0.0_20130122.txt\n",
      "drwxr-xr-x   - pmolnar hadoop          0 2017-02-18 10:50 /data/yelp/als_distance_mat.parquet\n",
      "drwxr-xr-x   - pmolnar hadoop          0 2017-01-15 12:12 /data/yelp/business\n",
      "drwxr-xr-x   - pmolnar hadoop          0 2017-01-15 12:14 /data/yelp/checkin\n",
      "dr-xr-xr-x   - pmolnar hadoop          0 2017-01-15 13:02 /data/yelp/review\n",
      "drwxr-xr-x   - pmolnar hadoop          0 2017-01-15 12:23 /data/yelp/tip\n",
      "drwxr-xr-x   - pmolnar hadoop          0 2017-01-15 12:24 /data/yelp/user\n"
     ]
    }
   ],
   "source": [
    "%%sh\n",
    "hdfs dfs -ls /data/yelp/"
   ]
  },
  {
   "cell_type": "code",
   "execution_count": 26,
   "metadata": {
    "ExecuteTime": {
     "end_time": "2017-10-20T10:55:14.751886",
     "start_time": "2017-10-20T10:55:14.285396"
    },
    "collapsed": false
   },
   "outputs": [
    {
     "name": "stdout",
     "output_type": "stream",
     "text": [
      "117687\n"
     ]
    },
    {
     "data": {
      "text/plain": [
       "[u'# SentiWordNet v3.0.0 (1 June 2010)',\n",
       " u'# Copyright 2010 ISTI-CNR.',\n",
       " u'# All right reserved.',\n",
       " u'#',\n",
       " u'# SentiWordNet is distributed under the Attribution-ShareAlike 3.0 Unported (CC BY-SA 3.0) license.',\n",
       " u'# http://creativecommons.org/licenses/by-sa/3.0/',\n",
       " u'#',\n",
       " u'# For any information about SentiWordNet:',\n",
       " u'# Web: http://sentiwordnet.isti.cnr.it',\n",
       " u'# -------',\n",
       " u'#',\n",
       " u'# Data format.',\n",
       " u'#',\n",
       " u'# SentiWordNet v3.0 is based on WordNet version 3.0.',\n",
       " u'# WordNet website: http://wordnet.princeton.edu/',\n",
       " u'#',\n",
       " u'# The pair (POS,ID) uniquely identifies a WordNet (3.0) synset.',\n",
       " u'# The values PosScore and NegScore are the positivity and negativity',\n",
       " u'# score assigned by SentiWordNet to the synset.',\n",
       " u'# The objectivity score can be calculated as:']"
      ]
     },
     "execution_count": 26,
     "metadata": {},
     "output_type": "execute_result"
    }
   ],
   "source": [
    "sentidict = sc.textFile(os.path.join(DATADIR, 'SentiWordNet_3.0.0_20130122.txt'))\n",
    "print sentidict.count()\n",
    "sentidict.take(20)"
   ]
  },
  {
   "cell_type": "code",
   "execution_count": 39,
   "metadata": {
    "ExecuteTime": {
     "end_time": "2017-10-20T11:04:28.458625",
     "start_time": "2017-10-20T11:04:28.454671"
    },
    "collapsed": true
   },
   "outputs": [],
   "source": [
    "def split_senti_words(x):\n",
    "    xl = x.split(' ')\n",
    "    return map(lambda r: r.split('#')[0], xl)"
   ]
  },
  {
   "cell_type": "code",
   "execution_count": 40,
   "metadata": {
    "ExecuteTime": {
     "end_time": "2017-10-20T11:04:30.235045",
     "start_time": "2017-10-20T11:04:30.230184"
    },
    "collapsed": false
   },
   "outputs": [
    {
     "data": {
      "text/plain": [
       "[u'dorsal', u'abaxial']"
      ]
     },
     "execution_count": 40,
     "metadata": {},
     "output_type": "execute_result"
    }
   ],
   "source": [
    "split_senti_words(u'dorsal#2 abaxial#1')"
   ]
  },
  {
   "cell_type": "code",
   "execution_count": 59,
   "metadata": {
    "ExecuteTime": {
     "end_time": "2017-10-20T11:16:05.628664",
     "start_time": "2017-10-20T11:16:05.620706"
    },
    "collapsed": true
   },
   "outputs": [],
   "source": [
    "def proc_senti_recs(s):\n",
    "    try:\n",
    "        sl = s.split('\\t')\n",
    "        pos = sl[0]\n",
    "        wid = sl[1]\n",
    "        pos = sl[2]\n",
    "        neg = sl[3]\n",
    "        wrds = split_senti_words(sl[4])\n",
    "        return [(w, (float(pos), float(neg))) for w in wrds]\n",
    "    except:\n",
    "        return []"
   ]
  },
  {
   "cell_type": "code",
   "execution_count": null,
   "metadata": {
    "collapsed": true
   },
   "outputs": [],
   "source": [
    "proc_senti_recs()"
   ]
  },
  {
   "cell_type": "code",
   "execution_count": 60,
   "metadata": {
    "ExecuteTime": {
     "end_time": "2017-10-20T11:16:07.826476",
     "start_time": "2017-10-20T11:16:07.733826"
    },
    "collapsed": false
   },
   "outputs": [
    {
     "data": {
      "text/plain": [
       "[(u'able', (0.125, 0.0)),\n",
       " (u'unable', (0.0, 0.75)),\n",
       " (u'dorsal', (0.0, 0.0)),\n",
       " (u'abaxial', (0.0, 0.0))]"
      ]
     },
     "execution_count": 60,
     "metadata": {},
     "output_type": "execute_result"
    }
   ],
   "source": [
    "sdict_rdd = sentidict.filter(lambda s: not s.startswith('#')).flatMap(proc_senti_recs)\n",
    "sdict_rdd.take(4)"
   ]
  },
  {
   "cell_type": "markdown",
   "metadata": {},
   "source": [
    "# Apply Sentiment Analysis"
   ]
  },
  {
   "cell_type": "code",
   "execution_count": 90,
   "metadata": {
    "ExecuteTime": {
     "end_time": "2017-10-20T11:47:16.560179",
     "start_time": "2017-10-20T11:47:13.525201"
    },
    "collapsed": false
   },
   "outputs": [
    {
     "data": {
      "text/plain": [
       "[(u'fawn', (u'hfpt_mEBm1ZLI2zrqfXwaA^5D0CLsIzQuL7wHWAQFHV3Q', (0.0, 0.0))),\n",
       " (u'fawn', (u'hfpt_mEBm1ZLI2zrqfXwaA^5D0CLsIzQuL7wHWAQFHV3Q', (0.0, 0.0))),\n",
       " (u'fawn', (u'hfpt_mEBm1ZLI2zrqfXwaA^5D0CLsIzQuL7wHWAQFHV3Q', (0.0, 0.0))),\n",
       " (u'fawn', (u'hfpt_mEBm1ZLI2zrqfXwaA^5D0CLsIzQuL7wHWAQFHV3Q', (0.125, 0.0))),\n",
       " (u'fawn', (u'hfpt_mEBm1ZLI2zrqfXwaA^5D0CLsIzQuL7wHWAQFHV3Q', (0.125, 0.125))),\n",
       " (u'wooden', (u'5GpvSL1tlAjpgdJKZ5eLpg^d9PnYF_koOYnSQl3sNf9cg', (0.25, 0.25))),\n",
       " (u'wooden', (u'5GpvSL1tlAjpgdJKZ5eLpg^d9PnYF_koOYnSQl3sNf9cg', (0.0, 0.0))),\n",
       " (u'wooden', (u'cjjZt2oOkk0F152RkQMfQw^vd0nB9PbB3n1nNyXVXAvyA', (0.25, 0.25))),\n",
       " (u'wooden', (u'cjjZt2oOkk0F152RkQMfQw^vd0nB9PbB3n1nNyXVXAvyA', (0.0, 0.0))),\n",
       " (u'wooden', (u'sxRI0je6hAR-MeBDxdyhug^P-MBU1hPKH9_Ga5-NqUHlA', (0.25, 0.25))),\n",
       " (u'wooden', (u'sxRI0je6hAR-MeBDxdyhug^P-MBU1hPKH9_Ga5-NqUHlA', (0.0, 0.0))),\n",
       " (u'wooden', (u'rS-GnEEtuzfaUn56dkNd1w^pbpgOOUgB9gb-LNanzKdIQ', (0.25, 0.25))),\n",
       " (u'wooden', (u'rS-GnEEtuzfaUn56dkNd1w^pbpgOOUgB9gb-LNanzKdIQ', (0.0, 0.0))),\n",
       " (u'wednesday',\n",
       "  (u'Po3kpjcdRfLgtMUhmoK9Aw^9XypLO8Ic4FgszCDDG5u2w', (0.0, 0.0))),\n",
       " (u'wednesday',\n",
       "  (u'rdJAWaAlUbXJfSEdUPKsCQ^XWTNq-0kIy_k9qeonFeq2A', (0.0, 0.0))),\n",
       " (u'wednesday',\n",
       "  (u'u0NbikWwP7TVkMkCily-4g^9XVNSfRjn6pRPT8j2SGyZQ', (0.0, 0.0))),\n",
       " (u'wednesday',\n",
       "  (u'NPDlIsGY50IfLx4fO95vCg^n8O1shJcljrWL5i3oMmAvQ', (0.0, 0.0))),\n",
       " (u'wednesday',\n",
       "  (u'Vm0bZKi7Bfi828PVvY91ww^cyBJIyi0j29uZA4dgGDTHQ', (0.0, 0.0))),\n",
       " (u'wednesday',\n",
       "  (u'z6vO1HR8L2iW4avr610XKw^KYNvcab5D8ZdmDDy_P1qGA', (0.0, 0.0))),\n",
       " (u'wednesday',\n",
       "  (u'MAMPfR7smhEeTqpWrfixvw^R36DKS6GynvPfbNm16Ya1g', (0.0, 0.0)))]"
      ]
     },
     "execution_count": 90,
     "metadata": {},
     "output_type": "execute_result"
    }
   ],
   "source": [
    "jnt_rdd = words_rdd.map(lambda r: (r[1], r[0])).join(sdict_rdd)\n",
    "jnt_rdd.take(20)"
   ]
  },
  {
   "cell_type": "code",
   "execution_count": 91,
   "metadata": {
    "ExecuteTime": {
     "end_time": "2017-10-20T11:47:34.239596",
     "start_time": "2017-10-20T11:47:32.401602"
    },
    "collapsed": false,
    "scrolled": false
   },
   "outputs": [
    {
     "data": {
      "text/plain": [
       "[(u'D_v-FRvDS23YFAo3dvPDnw^9xKxie6NzYYKYZdJ2_DyGA', (41.375, 7.625)),\n",
       " (u'URAkdLzbFwbhvp087RlvzA^IBO0tXcEV_6N-hMD3EJRuA', (4.0, 5.125)),\n",
       " (u'2OY8xs4aqOt8eTnYokdrww^9MneBUC7WZ6W5iT9Ns4cTQ', (12.375, 5.875)),\n",
       " (u'0uq7x1_pxU1hajaIDhv3MQ^oWQ6NUpC0KmwiHD3uDPnTg', (1.75, 2.125))]"
      ]
     },
     "execution_count": 91,
     "metadata": {},
     "output_type": "execute_result"
    }
   ],
   "source": [
    "# (u'fawn', (u'hfpt_mEBm1ZLI2zrqfXwaA', (0.0, 0.0)))\n",
    "#jnt_rdd.map(lambda r: (r[1][0], r[1][1][0], r[1][1][1])).\n",
    "res_rdd = jnt_rdd.map(lambda r: r[1]).reduceByKey(lambda a, b: (a[0]+b[0], a[1]+b[1]))\n",
    "res_rdd.take(4)"
   ]
  },
  {
   "cell_type": "markdown",
   "metadata": {},
   "source": [
    "# Summary Statistics\n",
    "\n",
    "Using short cut calculation:\n",
    "\n",
    "$$mean = \\frac{1}{n} \\sum_{i=1}^n x_i$$\n",
    "\n",
    "$$var = \\frac{1}{n-1}( \\sum_{i=1}^n x_i^2 - \\frac{ (\\sum_{i=1}^n x_i)^2}{n})$$\n",
    "\n",
    "\n",
    "Suggestion https://stackoverflow.com/questions/39981312/spark-rdd-how-to-calculate-statistics-most-efficiently\n"
   ]
  },
  {
   "cell_type": "markdown",
   "metadata": {},
   "source": [
    "You can try reduceByKey. It's pretty straightforward if we only want to compute the min():\n",
    "\n",
    "    rdd.reduceByKey(lambda x,y: min(x,y)).collect()\n",
    "#Out[84]: [('key3', 2.0), ('key2', 3.0), ('key1', 1.0)]\n",
    "To calculate the mean, you'll first need to create (value, 1) tuples which we use to calculate both the sum and count in the reduceByKey operation. Lastly we divide them by each other to arrive at the mean:\n",
    "\n",
    "    meanRDD = (rdd\n",
    "               .mapValues(lambda x: (x, 1))\n",
    "               .reduceByKey(lambda x, y: (x[0]+y[0], x[1]+y[1]))\n",
    "               .mapValues(lambda x: x[0]/x[1]))\n",
    "\n",
    "    meanRDD.collect()\n",
    "#Out[85]: [('key3', 5.5), ('key2', 5.0), ('key1', 3.3333333333333335)]\n",
    "For the variance, you can use the formula (sumOfSquares/count) - (sum/count)^2, which we translate in the following way:\n",
    "\n",
    "    varRDD = (rdd\n",
    "              .mapValues(lambda x: (1, x, x*x))\n",
    "              .reduceByKey(lambda x,y: (x[0]+y[0], x[1]+y[1], x[2]+y[2]))\n",
    "              .mapValues(lambda x: (x[2]/x[0] - (x[1]/x[0])**2)))\n",
    "\n",
    "    varRDD.collect()\n",
    "#Out[106]: [('key3', 12.25), ('key2', 4.0), ('key1', 2.8888888888888875)]\n",
    "I used values of type double instead of int in the dummy data to accurately illustrate computing the average and variance:\n",
    "\n",
    "    rdd = sc.parallelize([(\"key1\", 1.0),\n",
    "                          (\"key3\", 9.0),\n",
    "                          (\"key2\", 3.0),\n",
    "                          (\"key1\", 4.0),\n",
    "                          (\"key1\", 5.0),\n",
    "                          (\"key3\", 2.0),\n",
    "                          (\"key2\", 7.0)])\n"
   ]
  },
  {
   "cell_type": "code",
   "execution_count": 102,
   "metadata": {
    "ExecuteTime": {
     "end_time": "2017-10-20T12:02:05.297114",
     "start_time": "2017-10-20T12:02:05.216783"
    },
    "collapsed": false,
    "scrolled": true
   },
   "outputs": [
    {
     "data": {
      "text/plain": [
       "[(u'D_v-FRvDS23YFAo3dvPDnw', (1.0, 41.375, 7.625, 1711.890625, 58.140625)),\n",
       " (u'URAkdLzbFwbhvp087RlvzA', (1.0, 4.0, 5.125, 16.0, 26.265625)),\n",
       " (u'2OY8xs4aqOt8eTnYokdrww', (1.0, 12.375, 5.875, 153.140625, 34.515625)),\n",
       " (u'0uq7x1_pxU1hajaIDhv3MQ', (1.0, 1.75, 2.125, 3.0625, 4.515625))]"
      ]
     },
     "execution_count": 102,
     "metadata": {},
     "output_type": "execute_result"
    }
   ],
   "source": [
    "res2_rdd = res_rdd.map(lambda x: (x[0].split('^')[0], (1.0, x[1][0], x[1][1], x[1][0]*x[1][0], x[1][1]*x[1][1] )))\n",
    "res2_rdd.take(4)"
   ]
  },
  {
   "cell_type": "code",
   "execution_count": 104,
   "metadata": {
    "ExecuteTime": {
     "end_time": "2017-10-20T12:03:57.081986",
     "start_time": "2017-10-20T12:03:56.865289"
    },
    "collapsed": false
   },
   "outputs": [
    {
     "data": {
      "text/plain": [
       "[(u'8buIr1zBCO7OEcAQSZko7w',\n",
       "  (8.0, 388.29200000000003, 211.208, 3851.01075, 629.2295)),\n",
       " (u'SfBHIShLosHKWWLFuDFUhQ', (2.0, 50.0, 22.25, 1620.90625, 90.390625)),\n",
       " (u'3P6IQFwMyH2FE4msc5WM7w', (1.0, 45.375, 29.125, 2058.890625, 848.265625)),\n",
       " (u'oPhx1YGHyLmtl6sfo3Vr8A',\n",
       "  (1.0, 45.986000000000004, 22.764, 2114.7121960000004, 518.199696))]"
      ]
     },
     "execution_count": 104,
     "metadata": {},
     "output_type": "execute_result"
    }
   ],
   "source": [
    "res2_rdd.reduceByKey(lambda a,b: (a[0]+b[0], a[1]+b[1], a[2]+b[2], a[3]+b[4], a[1]+b[4])).take(4)"
   ]
  },
  {
   "cell_type": "code",
   "execution_count": null,
   "metadata": {
    "collapsed": true
   },
   "outputs": [],
   "source": []
  },
  {
   "cell_type": "code",
   "execution_count": null,
   "metadata": {
    "collapsed": true
   },
   "outputs": [],
   "source": []
  }
 ],
 "metadata": {
  "hide_input": false,
  "kernelspec": {
   "display_name": "Python 2",
   "language": "python",
   "name": "python2"
  },
  "language_info": {
   "codemirror_mode": {
    "name": "ipython",
    "version": 2
   },
   "file_extension": ".py",
   "mimetype": "text/x-python",
   "name": "python",
   "nbconvert_exporter": "python",
   "pygments_lexer": "ipython2",
   "version": "2.7.5"
  },
  "latex_envs": {
   "bibliofile": "biblio.bib",
   "cite_by": "apalike",
   "current_citInitial": 1,
   "eqLabelWithNumbers": true,
   "eqNumInitial": 0
  },
  "toc": {
   "nav_menu": {
    "height": "12px",
    "width": "252px"
   },
   "navigate_menu": true,
   "number_sections": true,
   "sideBar": true,
   "threshold": 4,
   "toc_cell": false,
   "toc_section_display": "block",
   "toc_window_display": false
  }
 },
 "nbformat": 4,
 "nbformat_minor": 0
}
