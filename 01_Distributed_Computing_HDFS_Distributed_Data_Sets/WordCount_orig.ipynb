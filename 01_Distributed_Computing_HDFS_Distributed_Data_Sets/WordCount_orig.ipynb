{
 "cells": [
  {
   "cell_type": "markdown",
   "metadata": {},
   "source": [
    "# Word Count in Spark\n",
    "We can find a cleaned-up text file with all of Shakespeare's work in"
   ]
  },
  {
   "cell_type": "code",
   "execution_count": null,
   "metadata": {
    "ExecuteTime": {
     "end_time": "2017-10-20T10:26:46.530268",
     "start_time": "2017-10-20T10:26:41.237430"
    },
    "collapsed": false
   },
   "outputs": [],
   "source": [
    "%%sh\n",
    "hdfs dfs -ls /data/shakespeare"
   ]
  },
  {
   "cell_type": "code",
   "execution_count": 1,
   "metadata": {
    "ExecuteTime": {
     "end_time": "2017-10-20T14:07:34.789324",
     "start_time": "2017-10-20T14:07:34.784640"
    },
    "collapsed": true
   },
   "outputs": [],
   "source": [
    "DATADIR='/data/shakespeare'"
   ]
  },
  {
   "cell_type": "code",
   "execution_count": null,
   "metadata": {
    "ExecuteTime": {
     "end_time": "2017-10-19T17:34:43.877838",
     "start_time": "2017-10-19T17:34:43.874119"
    },
    "collapsed": false
   },
   "outputs": [],
   "source": [
    "##sc.stop; del(sc)"
   ]
  },
  {
   "cell_type": "code",
   "execution_count": 2,
   "metadata": {
    "ExecuteTime": {
     "end_time": "2017-10-20T14:08:03.442057",
     "start_time": "2017-10-20T14:07:42.386522"
    },
    "collapsed": false
   },
   "outputs": [
    {
     "name": "stdout",
     "output_type": "stream",
     "text": [
      "Launched Spark version 1.6.1 with ID application_1508160140652_0006\n"
     ]
    }
   ],
   "source": [
    "# %load pyspark_init_arc.py\n",
    "#\n",
    "# This configuration works for Spark on macOS using homebrew\n",
    "#\n",
    "import os, sys\n",
    "# set OS environment variable\n",
    "os.environ[\"SPARK_HOME\"] = '/usr/hdp/2.4.2.0-258/spark'\n",
    "# add Spark library to Python\n",
    "sys.path.insert(0, os.path.join(os.environ[\"SPARK_HOME\"], 'python'))\n",
    "\n",
    "# import package\n",
    "import pyspark\n",
    "from pyspark.context import SparkContext, SparkConf\n",
    "\n",
    "import atexit\n",
    "def stop_my_spark():\n",
    "    sc.stop()\n",
    "    del(sc)\n",
    "\n",
    "# Register exit    \n",
    "atexit.register(stop_my_spark)\n",
    "\n",
    "# Configure and start Spark ... but only once.\n",
    "if not 'sc' in globals():\n",
    "    conf = SparkConf()\n",
    "    conf.setAppName('MyFirstSpark') ## you may want to change this\n",
    "    conf.setMaster('yarn-client')   ##conf.setMaster('local[2]')\n",
    "    sc = SparkContext(conf=conf)\n",
    "    print \"Launched Spark version %s with ID %s\" % (sc.version, sc.applicationId)"
   ]
  },
  {
   "cell_type": "code",
   "execution_count": null,
   "metadata": {
    "ExecuteTime": {
     "end_time": "2017-10-20T10:27:16.981241",
     "start_time": "2017-10-20T10:27:16.975234"
    },
    "collapsed": false
   },
   "outputs": [],
   "source": [
    "print \"http://arc.insight.gsu.edu:8088/cluster/app/%s\"% (sc.applicationId)"
   ]
  },
  {
   "cell_type": "markdown",
   "metadata": {},
   "source": [
    "# Load Data"
   ]
  },
  {
   "cell_type": "code",
   "execution_count": 3,
   "metadata": {
    "ExecuteTime": {
     "end_time": "2017-10-20T14:08:29.637157",
     "start_time": "2017-10-20T14:08:28.569154"
    },
    "collapsed": false
   },
   "outputs": [],
   "source": [
    "rdd = sc.textFile(os.path.join(DATADIR, 'shakespeare.txt')).sample(False, 0.001)"
   ]
  },
  {
   "cell_type": "code",
   "execution_count": 4,
   "metadata": {
    "ExecuteTime": {
     "end_time": "2017-10-20T14:08:35.304137",
     "start_time": "2017-10-20T14:08:32.609753"
    },
    "collapsed": false
   },
   "outputs": [
    {
     "data": {
      "text/plain": [
       "[u\"  Or else receiv'st with pleasure thine annoy?\",\n",
       " u'    And put you in the catalogue of those',\n",
       " u'    Come, sirrah.                                         Exeunt',\n",
       " u'    Unless her prayers, whom heaven delights to hear',\n",
       " u\"  KING. Come, come, to th' purpose. Did he love this woman?\",\n",
       " u'    In time we hate that which we often fear.',\n",
       " u'  OLIVER, son of Sir Rowland de Boys',\n",
       " u'  CELIA. Dear sovereign, hear me speak.',\n",
       " u'    in it, it goes much against my stomach. Hast any philosophy in',\n",
       " u'    shallow, inconstant, full of tears, full of smiles; for every']"
      ]
     },
     "execution_count": 4,
     "metadata": {},
     "output_type": "execute_result"
    }
   ],
   "source": [
    "rdd.take(10)"
   ]
  },
  {
   "cell_type": "markdown",
   "metadata": {},
   "source": [
    "# Cleaning-up\n",
    "\n",
    "The `mapper.sh` code run some character replacements\n",
    "<pre>\n",
    "tr -d '.,:?\"' \\\n",
    "| tr '[]{}-' '     ' \\\n",
    "| tr 'A-Z' 'a-z' \\\n",
    "| tr ' ' '\\n' \\\n",
    "| grep -v -e '^[[:space:]]*$'\n",
    "\n",
    "</pre>\n",
    "\n",
    "We're going to use the regular expression package, `re` to replace characters.\n",
    "<pre>\n",
    "regex = re.compile('[%s]' % re.escape(string.punctuation))\n",
    "regex.sub(' ', s)\n",
    "</pre>\n"
   ]
  },
  {
   "cell_type": "code",
   "execution_count": 5,
   "metadata": {
    "ExecuteTime": {
     "end_time": "2017-10-20T14:09:30.216234",
     "start_time": "2017-10-20T14:09:30.210249"
    },
    "collapsed": true
   },
   "outputs": [],
   "source": [
    "import re, string\n",
    "regex = re.compile('[%s]' % re.escape(string.punctuation))"
   ]
  },
  {
   "cell_type": "code",
   "execution_count": 6,
   "metadata": {
    "ExecuteTime": {
     "end_time": "2017-10-20T14:09:33.819374",
     "start_time": "2017-10-20T14:09:33.814889"
    },
    "collapsed": false
   },
   "outputs": [
    {
     "name": "stdout",
     "output_type": "stream",
     "text": [
      "Special characters: !\"#$%&'()*+,-./:;<=>?@[\\]^_`{|}~\n"
     ]
    }
   ],
   "source": [
    "print \"Special characters: %s\"%(string.punctuation)"
   ]
  },
  {
   "cell_type": "code",
   "execution_count": 7,
   "metadata": {
    "ExecuteTime": {
     "end_time": "2017-10-20T14:10:46.315744",
     "start_time": "2017-10-20T14:10:46.307741"
    },
    "collapsed": false
   },
   "outputs": [
    {
     "data": {
      "text/plain": [
       "'Hello   Xyz  '"
      ]
     },
     "execution_count": 7,
     "metadata": {},
     "output_type": "execute_result"
    }
   ],
   "source": [
    "regex.sub(' ', 'Hello! (Xyz)?')"
   ]
  },
  {
   "cell_type": "code",
   "execution_count": 11,
   "metadata": {
    "ExecuteTime": {
     "end_time": "2017-10-20T14:38:35.515741",
     "start_time": "2017-10-20T14:38:35.309662"
    },
    "collapsed": false
   },
   "outputs": [
    {
     "data": {
      "text/plain": [
       "[u'  or else receiv st with pleasure thine annoy ',\n",
       " u'    and put you in the catalogue of those',\n",
       " u'    come  sirrah                                          exeunt',\n",
       " u'    unless her prayers  whom heaven delights to hear']"
      ]
     },
     "execution_count": 11,
     "metadata": {},
     "output_type": "execute_result"
    }
   ],
   "source": [
    "# hint: regex.sub(' ', s)\n",
    "def get_rid_of_punct(x):\n",
    "    return  regex.sub(' ', x)\n",
    "\n",
    "#rdd2 = rdd.map(lambda x: regex.sub(' ', x))\n",
    "rdd2 = rdd.map(get_rid_of_punct).map(lambda s: s.lower())\n",
    "rdd2.take(4)"
   ]
  },
  {
   "cell_type": "markdown",
   "metadata": {},
   "source": [
    "Let's convert to lower case"
   ]
  },
  {
   "cell_type": "code",
   "execution_count": null,
   "metadata": {
    "ExecuteTime": {
     "end_time": "2017-10-20T10:27:36.637409",
     "start_time": "2017-10-20T10:27:34.901995"
    },
    "collapsed": false,
    "scrolled": true
   },
   "outputs": [],
   "source": [
    "# hint: lower()\n"
   ]
  },
  {
   "cell_type": "markdown",
   "metadata": {},
   "source": [
    "`map()` vs `flatMap()`\n",
    "- `map` produces a single row per row, even if the row may contain a collection\n",
    "- `flatMap` if the function on the row produces a collection multiple rows will be ejected"
   ]
  },
  {
   "cell_type": "code",
   "execution_count": 14,
   "metadata": {
    "ExecuteTime": {
     "end_time": "2017-10-20T14:41:53.628792",
     "start_time": "2017-10-20T14:41:53.518163"
    },
    "collapsed": false
   },
   "outputs": [
    {
     "data": {
      "text/plain": [
       "[u'', u'', u'or', u'else']"
      ]
     },
     "execution_count": 14,
     "metadata": {},
     "output_type": "execute_result"
    }
   ],
   "source": [
    "# hint: s.split(' ')\n",
    "rdd2.flatMap(lambda s: s.split(' ')).take(4)"
   ]
  },
  {
   "cell_type": "markdown",
   "metadata": {},
   "source": [
    "Now, that we have the words extracted we still need to add a value for the reduce process $x \\rightarrow (x,1)$"
   ]
  },
  {
   "cell_type": "code",
   "execution_count": 17,
   "metadata": {
    "ExecuteTime": {
     "end_time": "2017-10-20T14:45:26.505724",
     "start_time": "2017-10-20T14:45:26.416811"
    },
    "collapsed": false
   },
   "outputs": [
    {
     "data": {
      "text/plain": [
       "[(u'', 1), (u'', 1), (u'or', 1), (u'else', 1)]"
      ]
     },
     "execution_count": 17,
     "metadata": {},
     "output_type": "execute_result"
    }
   ],
   "source": [
    "rdd3 = rdd2.flatMap(lambda s: s.split(' ')).map(lambda w: (w, 1))\n",
    "rdd3.take(4)"
   ]
  },
  {
   "cell_type": "markdown",
   "metadata": {},
   "source": [
    "#  Counting\n",
    "Now, our data set should be in the proper format, and we can count the words"
   ]
  },
  {
   "cell_type": "code",
   "execution_count": 25,
   "metadata": {
    "ExecuteTime": {
     "end_time": "2017-10-20T14:52:07.669011",
     "start_time": "2017-10-20T14:52:07.236784"
    },
    "collapsed": false
   },
   "outputs": [
    {
     "data": {
      "text/plain": [
       "[(u'all', 3),\n",
       " (u'particularly', 1),\n",
       " (u'pardon', 1),\n",
       " (u'being', 1),\n",
       " (u'able', 1),\n",
       " (u'toby', 1),\n",
       " (u'cease', 1),\n",
       " (u'burgundy', 1),\n",
       " (u'go', 2),\n",
       " (u'fear', 3)]"
      ]
     },
     "execution_count": 25,
     "metadata": {},
     "output_type": "execute_result"
    }
   ],
   "source": [
    "# hint: +\n",
    "cnt_rdd = rdd3.filter(lambda s: len(s[0])>0).reduceByKey(lambda a,b: a+b)\n",
    "cnt_rdd.take(10)"
   ]
  },
  {
   "cell_type": "markdown",
   "metadata": {},
   "source": [
    "Let's also sort them in descending order ... may have to swap values within the row"
   ]
  },
  {
   "cell_type": "code",
   "execution_count": 28,
   "metadata": {
    "ExecuteTime": {
     "end_time": "2017-10-20T14:54:24.874066",
     "start_time": "2017-10-20T14:54:24.427433"
    },
    "collapsed": false
   },
   "outputs": [
    {
     "data": {
      "text/plain": [
       "[(26, u'the'),\n",
       " (20, u'and'),\n",
       " (20, u'a'),\n",
       " (20, u'of'),\n",
       " (19, u'to'),\n",
       " (17, u'i'),\n",
       " (15, u'my'),\n",
       " (14, u'not'),\n",
       " (13, u'as'),\n",
       " (12, u'in'),\n",
       " (11, u'you'),\n",
       " (11, u'that'),\n",
       " (11, u'be'),\n",
       " (10, u'me'),\n",
       " (9, u'we'),\n",
       " (9, u's'),\n",
       " (9, u'it'),\n",
       " (8, u'is'),\n",
       " (8, u'for'),\n",
       " (7, u'thou')]"
      ]
     },
     "execution_count": 28,
     "metadata": {},
     "output_type": "execute_result"
    }
   ],
   "source": [
    "# hint: sortByKey\n",
    "cnt_rdd.map(lambda t: (t[1], t[0])).sortByKey(False).take(20)"
   ]
  },
  {
   "cell_type": "code",
   "execution_count": null,
   "metadata": {
    "collapsed": true
   },
   "outputs": [],
   "source": []
  },
  {
   "cell_type": "code",
   "execution_count": null,
   "metadata": {
    "collapsed": true
   },
   "outputs": [],
   "source": []
  }
 ],
 "metadata": {
  "hide_input": false,
  "kernelspec": {
   "display_name": "Python 2",
   "language": "python",
   "name": "python2"
  },
  "language_info": {
   "codemirror_mode": {
    "name": "ipython",
    "version": 2
   },
   "file_extension": ".py",
   "mimetype": "text/x-python",
   "name": "python",
   "nbconvert_exporter": "python",
   "pygments_lexer": "ipython2",
   "version": "2.7.5"
  },
  "toc": {
   "nav_menu": {
    "height": "66px",
    "width": "252px"
   },
   "navigate_menu": true,
   "number_sections": true,
   "sideBar": true,
   "threshold": 4,
   "toc_cell": false,
   "toc_section_display": "block",
   "toc_window_display": false
  }
 },
 "nbformat": 4,
 "nbformat_minor": 0
}
