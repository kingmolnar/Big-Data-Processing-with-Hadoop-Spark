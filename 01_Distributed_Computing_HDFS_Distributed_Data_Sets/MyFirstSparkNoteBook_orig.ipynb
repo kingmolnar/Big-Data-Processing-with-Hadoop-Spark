{
 "cells": [
  {
   "cell_type": "markdown",
   "metadata": {},
   "source": [
    "# My First Spark Notebook\n",
    "There a number of ways to run Spark programs; even in Jupyter notebooks. How to launch your code heavily depends on your Spark environment. The following show a few examples:"
   ]
  },
  {
   "cell_type": "markdown",
   "metadata": {},
   "source": [
    "## Launch Spark from Notebook"
   ]
  },
  {
   "cell_type": "code",
   "execution_count": 1,
   "metadata": {
    "ExecuteTime": {
     "end_time": "2017-10-19T14:00:12.577529",
     "start_time": "2017-10-19T14:00:12.573223"
    },
    "collapsed": true
   },
   "outputs": [],
   "source": [
    "import os, sys"
   ]
  },
  {
   "cell_type": "code",
   "execution_count": 4,
   "metadata": {
    "ExecuteTime": {
     "end_time": "2017-10-20T15:42:59.102350",
     "start_time": "2017-10-20T15:42:59.064906"
    },
    "collapsed": false,
    "scrolled": true
   },
   "outputs": [
    {
     "name": "stdout",
     "output_type": "stream",
     "text": [
      "total 20\n",
      "drwxr-xr-x 4 root root 4096 Jun 30 12:49 docs\n",
      "drwxr-xr-x 2 root root   70 Jun 30 12:49 lib\n",
      "drwxr-xr-x 6 root root 4096 Jun 30 12:49 pyspark\n",
      "-rwxr-xr-x 1 root root  899 Apr 13  2016 run-tests\n",
      "-rwxr-xr-x 1 root root 7629 Apr 13  2016 run-tests.py\n",
      "drwxr-xr-x 3 root root  101 Jun 30 12:49 test_support\n"
     ]
    }
   ],
   "source": [
    "%%sh\n",
    "ls -l /usr/hdp/current/spark-client/python/"
   ]
  },
  {
   "cell_type": "code",
   "execution_count": 2,
   "metadata": {
    "ExecuteTime": {
     "end_time": "2017-10-20T15:41:26.528454",
     "start_time": "2017-10-20T15:41:26.503164"
    },
    "collapsed": false
   },
   "outputs": [
    {
     "data": {
      "text/plain": [
       "['',\n",
       " '/usr/lib64/python27.zip',\n",
       " '/usr/lib64/python2.7',\n",
       " '/usr/lib64/python2.7/plat-linux2',\n",
       " '/usr/lib64/python2.7/lib-tk',\n",
       " '/usr/lib64/python2.7/lib-old',\n",
       " '/usr/lib64/python2.7/lib-dynload',\n",
       " '/usr/lib64/python2.7/site-packages',\n",
       " '/usr/lib64/python2.7/site-packages/gtk-2.0',\n",
       " '/usr/lib/python2.7/site-packages',\n",
       " '/usr/lib/python2.7/site-packages/xgboost-0.6-py2.7.egg',\n",
       " '/usr/lib/python2.7/site-packages/IPython/extensions',\n",
       " '/home/pmolnar/.ipython']"
      ]
     },
     "execution_count": 2,
     "metadata": {},
     "output_type": "execute_result"
    }
   ],
   "source": [
    "import sys\n",
    "sys.path"
   ]
  },
  {
   "cell_type": "code",
   "execution_count": 5,
   "metadata": {
    "ExecuteTime": {
     "end_time": "2017-10-19T14:05:11.496666",
     "start_time": "2017-10-19T14:05:11.493297"
    },
    "collapsed": false
   },
   "outputs": [],
   "source": [
    "# set OS environment variable\n",
    "os.environ[\"SPARK_HOME\"] = '/usr/local/Cellar/apache-spark/2.2.0/libexec'\n",
    "# add Spark library to Python\n",
    "sys.path.insert(0, os.path.join(os.environ[\"SPARK_HOME\"], 'python'))"
   ]
  },
  {
   "cell_type": "code",
   "execution_count": 6,
   "metadata": {
    "ExecuteTime": {
     "end_time": "2017-10-19T14:05:51.775944",
     "start_time": "2017-10-19T14:05:51.472988"
    },
    "collapsed": true
   },
   "outputs": [],
   "source": [
    "import pyspark\n",
    "from pyspark.context import SparkContext, SparkConf"
   ]
  },
  {
   "cell_type": "markdown",
   "metadata": {},
   "source": [
    "The following code takes care of cleaning up if our program crashes."
   ]
  },
  {
   "cell_type": "code",
   "execution_count": 20,
   "metadata": {
    "ExecuteTime": {
     "end_time": "2017-10-19T14:24:28.652631",
     "start_time": "2017-10-19T14:24:28.647749"
    },
    "collapsed": false
   },
   "outputs": [
    {
     "data": {
      "text/plain": [
       "<function __main__._at_exit>"
      ]
     },
     "execution_count": 20,
     "metadata": {},
     "output_type": "execute_result"
    }
   ],
   "source": [
    "import atexit\n",
    "def _at_exit():\n",
    "    sc.stop()\n",
    "    del(sc)\n",
    "    \n",
    "atexit.register(_at_exit)"
   ]
  },
  {
   "cell_type": "code",
   "execution_count": 22,
   "metadata": {
    "ExecuteTime": {
     "end_time": "2017-10-19T14:25:00.774123",
     "start_time": "2017-10-19T14:25:00.767268"
    },
    "collapsed": false
   },
   "outputs": [],
   "source": [
    "##sc.stop(); del(sc)\n",
    "\n",
    "if not 'sc' in globals():\n",
    "    conf = SparkConf()\n",
    "    conf.setAppName('MyFirstSpark') ## you may want to change this\n",
    "    conf.setMaster('local[2]')\n",
    "    conf.set('spark.ui.port', '63729')\n",
    "    sc = SparkContext(conf=conf)\n",
    "    print \"Launched Spark version %s with ID %s\" % (sc.version, sc.applicationId)"
   ]
  },
  {
   "cell_type": "markdown",
   "metadata": {
    "ExecuteTime": {
     "end_time": "2017-10-19T14:23:25.794805",
     "start_time": "2017-10-19T14:23:25.792168"
    }
   },
   "source": [
    "Yeah...Spark us running"
   ]
  },
  {
   "cell_type": "code",
   "execution_count": 10,
   "metadata": {
    "ExecuteTime": {
     "end_time": "2017-10-19T14:18:45.301855",
     "start_time": "2017-10-19T14:18:44.774509"
    },
    "collapsed": true
   },
   "outputs": [],
   "source": [
    "sc.stop()"
   ]
  }
 ],
 "metadata": {
  "hide_input": false,
  "kernelspec": {
   "display_name": "Python 2",
   "language": "python",
   "name": "python2"
  },
  "language_info": {
   "codemirror_mode": {
    "name": "ipython",
    "version": 2
   },
   "file_extension": ".py",
   "mimetype": "text/x-python",
   "name": "python",
   "nbconvert_exporter": "python",
   "pygments_lexer": "ipython2",
   "version": "2.7.5"
  },
  "latex_envs": {
   "bibliofile": "biblio.bib",
   "cite_by": "apalike",
   "current_citInitial": 1,
   "eqLabelWithNumbers": true,
   "eqNumInitial": 0
  },
  "toc": {
   "nav_menu": {
    "height": "48px",
    "width": "252px"
   },
   "navigate_menu": true,
   "number_sections": true,
   "sideBar": true,
   "threshold": 4,
   "toc_cell": false,
   "toc_section_display": "block",
   "toc_window_display": false
  }
 },
 "nbformat": 4,
 "nbformat_minor": 2
}
