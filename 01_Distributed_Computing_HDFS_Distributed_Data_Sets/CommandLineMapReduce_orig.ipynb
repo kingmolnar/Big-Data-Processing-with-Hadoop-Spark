{
 "cells": [
  {
   "cell_type": "code",
   "execution_count": 1,
   "metadata": {
    "ExecuteTime": {
     "end_time": "2017-10-20T13:48:15.631163",
     "start_time": "2017-10-20T13:48:15.571670"
    },
    "collapsed": false,
    "scrolled": true
   },
   "outputs": [
    {
     "name": "stdout",
     "output_type": "stream",
     "text": [
      "total 148\n",
      "-rw-rw-r-- 1 pmolnar pmolnar 20301 Oct 19 16:52 BasicRDDOperationsPython_orig.ipynb\n",
      "-rw-rw-r-- 1 pmolnar pmolnar 26000 Oct 19 16:52 BasicRDDOperationsScala_orig.ipynb\n",
      "-rw-r--r-- 1 pmolnar pmolnar    72 Oct 20 13:47 CommandLineMapReduce.ipynb\n",
      "-rwxrwxr-x 1 pmolnar pmolnar   117 Oct 19 16:58 mapper.sh\n",
      "-rw-rw-r-- 1 pmolnar pmolnar  5459 Oct 19 16:52 MyFirstSparkNoteBook_orig.ipynb\n",
      "-rw-rw-r-- 1 pmolnar pmolnar   856 Oct 20 12:29 pyspark_init_arc.py\n",
      "-rw-rw-r-- 1 pmolnar pmolnar   793 Oct 20 10:42 pyspark_init_mac.py\n",
      "-rw-rw-r-- 1 pmolnar pmolnar   700 Oct 20 10:14 README.md\n",
      "-rwxrwxr-x 1 pmolnar pmolnar    32 Oct 19 16:52 reducer.sh\n",
      "-rw-rw-r-- 1 pmolnar pmolnar 15690 Oct 20 12:28 SentimentAnalysis_orig.ipynb\n",
      "-rw-rw-r-- 1 pmolnar pmolnar 28304 Oct 20 12:13 SentimentAnalysis_solution.ipynb\n",
      "-rw-r--r-- 1 pmolnar pmolnar  8534 Oct 20 10:30 WordCount_orig.ipynb\n",
      "-rw-r--r-- 1 pmolnar pmolnar 12052 Oct 20 10:28 WordCount_solution.ipynb\n"
     ]
    }
   ],
   "source": [
    "%%sh\n",
    "ls -l "
   ]
  },
  {
   "cell_type": "code",
   "execution_count": 2,
   "metadata": {
    "ExecuteTime": {
     "end_time": "2017-10-20T13:49:58.473654",
     "start_time": "2017-10-20T13:49:58.428993"
    },
    "collapsed": false
   },
   "outputs": [
    {
     "name": "stdout",
     "output_type": "stream",
     "text": [
      "﻿1609\r\n",
      "\r\n",
      "THE SONNETS\r\n",
      "\r\n",
      "by William Shakespeare\r\n",
      "\r\n",
      "\r\n",
      "\r\n",
      "                     1\r\n",
      "  From fairest creatures we desire increase,\r\n",
      "  That thereby beauty's rose might never die,\r\n",
      "  But as the riper should by time decease,\r\n",
      "  His tender heir might bear his memory:\r\n",
      "  But thou contracted to thine own bright eyes,\r\n",
      "  Feed'st thy light's flame with self-substantial fuel,\r\n",
      "  Making a famine where abundance lies,\r\n",
      "  Thy self thy foe, to thy sweet self too cruel:\r\n",
      "  Thou that art now the world's fresh ornament,\r\n",
      "  And only herald to the gaudy spring,\r\n",
      "  Within thine own bud buriest thy content,\r\n"
     ]
    }
   ],
   "source": [
    "%%sh\n",
    "head -20 /home/data/shakespeare.txt"
   ]
  },
  {
   "cell_type": "code",
   "execution_count": 3,
   "metadata": {
    "ExecuteTime": {
     "end_time": "2017-10-20T13:54:21.720055",
     "start_time": "2017-10-20T13:54:21.671958"
    },
    "collapsed": false
   },
   "outputs": [
    {
     "name": "stdout",
     "output_type": "stream",
     "text": [
      "#!/bin/bash\n",
      "tr -d '.,:?\"' \\\n",
      "| tr '[]{}-' '     ' \\\n",
      "| tr 'A-Z' 'a-z' \\\n",
      "| tr ' ' '\\n' \\\n",
      "| grep -v -e '^[[:space:]]*$' \n"
     ]
    }
   ],
   "source": [
    "%%sh\n",
    "cat mapper.sh"
   ]
  },
  {
   "cell_type": "code",
   "execution_count": 8,
   "metadata": {
    "ExecuteTime": {
     "end_time": "2017-10-20T14:03:30.182068",
     "start_time": "2017-10-20T14:03:19.977338"
    },
    "collapsed": false
   },
   "outputs": [
    {
     "name": "stdout",
     "output_type": "stream",
     "text": [
      "  26085 the\n",
      "  25055 and\n",
      "  19142 i\n",
      "  18745 to\n",
      "  16648 of\n",
      "  13848 a\n",
      "  11970 my\n",
      "  11590 you\n",
      "  10388 in\n",
      "  10218 that\n"
     ]
    },
    {
     "name": "stderr",
     "output_type": "stream",
     "text": [
      "sort: write failed: standard output: Broken pipe\n",
      "sort: write error\n"
     ]
    }
   ],
   "source": [
    "%%sh\n",
    "cat /home/data/shakespeare.txt | ./mapper.sh | sort |./reducer.sh | head\n",
    "\n"
   ]
  },
  {
   "cell_type": "code",
   "execution_count": null,
   "metadata": {
    "collapsed": true
   },
   "outputs": [],
   "source": []
  }
 ],
 "metadata": {
  "hide_input": false,
  "kernelspec": {
   "display_name": "Python 2",
   "language": "python",
   "name": "python2"
  },
  "language_info": {
   "codemirror_mode": {
    "name": "ipython",
    "version": 2
   },
   "file_extension": ".py",
   "mimetype": "text/x-python",
   "name": "python",
   "nbconvert_exporter": "python",
   "pygments_lexer": "ipython2",
   "version": "2.7.5"
  },
  "toc": {
   "nav_menu": {
    "height": "12px",
    "width": "252px"
   },
   "navigate_menu": true,
   "number_sections": true,
   "sideBar": true,
   "threshold": 4,
   "toc_cell": false,
   "toc_section_display": "block",
   "toc_window_display": false
  }
 },
 "nbformat": 4,
 "nbformat_minor": 0
}
